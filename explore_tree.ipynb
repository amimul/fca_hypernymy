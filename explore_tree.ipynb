{
 "cells": [
  {
   "cell_type": "code",
   "execution_count": 1,
   "metadata": {},
   "outputs": [
    {
     "name": "stdout",
     "output_type": "stream",
     "text": [
      "Populating the interactive namespace from numpy and matplotlib\n"
     ]
    }
   ],
   "source": [
    "from collections import defaultdict\n",
    "import logging\n",
    "logging.basicConfig(level=logging.DEBUG, format=\"%(asctime)s: (%(lineno)s) %(levelname)s %(message)s\")\n",
    "import os\n",
    "\n",
    "import json\n",
    "import numpy as np\n",
    "import matplotlib.pyplot as plt\n",
    "%pylab inline\n",
    "pylab.rcParams['figure.figsize'] = (18, 6)\n",
    "import pprint\n",
    "import networkx as nx\n",
    "\n",
    "from semeval_fca import find_paths_to_object"
   ]
  },
  {
   "cell_type": "markdown",
   "metadata": {},
   "source": [
    "# Freq cutoff"
   ]
  },
  {
   "cell_type": "code",
   "execution_count": 2,
   "metadata": {
    "collapsed": true
   },
   "outputs": [],
   "source": [
    "task_dir = '/mnt/permanent/Language/English/Data/SemEval/2018/Hypernym/'"
   ]
  },
  {
   "cell_type": "code",
   "execution_count": 3,
   "metadata": {},
   "outputs": [],
   "source": [
    "freq_filen = os.path.join(task_dir, 'frequency_lists/1A_english_frequencylist.txt')\n",
    "freqs = defaultdict(int)\n",
    "freqs.update({l.split(\"\\t\")[0]: int(l.split(\"\\t\")[1]) for l in open(freq_filen)})"
   ]
  },
  {
   "cell_type": "code",
   "execution_count": 4,
   "metadata": {},
   "outputs": [
    {
     "data": {
      "image/png": "[encoded data removed]",
      "text/plain": [
       "<matplotlib.figure.Figure at 0x7f99bdb33cc0>"
      ]
     },
     "metadata": {},
     "output_type": "display_data"
    }
   ],
   "source": [
    "golds = [t for l in open(os.path.join(task_dir, 'test/training/gold/1A.english.training.gold.txt'))\n",
    "         for t in l.strip().split('\\t')]\n",
    "plt.hist([0 if g not in freqs else np.log10(freqs[g]) for g in golds])\n",
    "plt.show()"
   ]
  },
  {
   "cell_type": "code",
   "execution_count": 5,
   "metadata": {},
   "outputs": [
    {
     "name": "stdout",
     "output_type": "stream",
     "text": [
      "10\t135847/218753\t11271/11780\n",
      "100\t76343/218753\t10152/11780\n",
      "1000\t32219/218753\t7661/11780\n",
      "10000\t9807/218753\t5046/11780\n"
     ]
    }
   ],
   "source": [
    "vocab = set([l.strip() for l in open(os.path.join(task_dir, 'test/vocabulary/1A.english.vocabulary.txt'))])\n",
    "\n",
    "words_left = lambda x, threshold, vocabulary: [word for word, f in x.items() if f > threshold and word in vocabulary]\n",
    "\n",
    "\n",
    "\n",
    "for threshold in [10, 100, 1000, 10000]:\n",
    "    s = set(words_left(freqs, threshold, vocab))\n",
    "    print('{}\\t{}/{}\\t{}/{}'.format(threshold, len(s), len(vocab), len([g for g in golds if g in s]), len(golds)))"
   ]
  },
  {
   "cell_type": "markdown",
   "metadata": {},
   "source": [
    "# Tree exploration"
   ]
  },
  {
   "cell_type": "code",
   "execution_count": 6,
   "metadata": {
    "collapsed": true
   },
   "outputs": [],
   "source": [
    "logging.inf('')\n",
    "J = json.load(open(\n",
    "    '/mnt/store/hlt/Work/hypernym18-SemEval/concept_tree/1A_UMBC_tokenized.txt_100_sg.vec.gz_True_1000_0.2_unit_True_vocabulary_filtered_reduced.cxt.json'))\n",
    "logging.inf('')"
   ]
  },
  {
   "cell_type": "code",
   "execution_count": 7,
   "metadata": {
    "collapsed": true
   },
   "outputs": [],
   "source": [
    "paths, nodes, depths = find_paths_to_object(J, 'dhow')"
   ]
  },
  {
   "cell_type": "markdown",
   "metadata": {},
   "source": [
    "mind3 visszaadott lista olyan hosszú lesz, mint ahányféleképp el lehetett jutni a gyökérből egy olyan csúcsig, amiben megtalálható volt a lekérdezett szó\n",
    "\n",
    "* a `path` ezeknek az utaknak a visszafejtését tartalmazza, \n",
    "* a `nodes` magát azt a csúcsot, ahol az i. út véget ért\n",
    "* a `depths` pedig azt hogy a gyökértől milyen mélyen helyezkedik el ez a bizonyos csúcs\n",
    "\n",
    "\n",
    "elvileg redundáns is, tehát a `paths` i. elemében egy olyan listát kell találj, ami egy gyökérben végződő utat kódol, és a `depths` i. értékéül épp ennek az útnak a hosszát kell lásd"
   ]
  },
  {
   "cell_type": "code",
   "execution_count": 8,
   "metadata": {
    "collapsed": true
   },
   "outputs": [],
   "source": [
    "def my_print(words, max_len=7):\n",
    "    words = sorted(words, key=lambda word: freqs[word], reverse=True)\n",
    "    ans = ' '.join(str(i) for  i in words[:max_len])\n",
    "    len_ = len(words)\n",
    "    if len_ > max_len:\n",
    "        ans += '... ({})'.format(len_)\n",
    "    return '{:.2} {}'.format(log10(freqs[words[0]]), ans)"
   ]
  },
  {
   "cell_type": "code",
   "execution_count": 9,
   "metadata": {},
   "outputs": [
    {
     "data": {
      "text/plain": [
       "6.4428936410123194"
      ]
     },
     "execution_count": 9,
     "metadata": {},
     "output_type": "execute_result"
    }
   ],
   "source": [
    "log10(freqs['how'])"
   ]
  },
  {
   "cell_type": "code",
   "execution_count": 10,
   "metadata": {},
   "outputs": [
    {
     "name": "stdout",
     "output_type": "stream",
     "text": [
      "3.0 seafaring coastwise dhow unladen windjammer undecked flota... (11) 4\n",
      "3.0 plying breadfruit flat-bottomed whalebone sampan sailcloth kapa vaka argosy casco butter-box... (15)\n",
      "3.6 pearl stilt cocoanut cowries cowry swiftlet\n",
      "3.5 mahogany jade sultan dey mulberry brocade mother-of-pearl dutch macaw tortoiseshell jades... (31)\n",
      "\n",
      "2.1 dhow wharfside tunnage 4\n",
      "3.5 rum kapok salter vapored seal_oil whale_oil\n",
      "2.2 whaleboat supercargo kapa chantey sennit lubberly butter-box wooden_boat wooden_shoe balsa_raft breadfruit_tree\n",
      "3.5 mahogany jade sultan dey mulberry brocade mother-of-pearl dutch macaw tortoiseshell jades... (31)\n",
      "\n",
      "2.2 supertanker dhow bilgewater oil_tanker 4\n",
      "0.7 ranson Tropical_Storm_Cindy\n",
      "4.2 whale shark ashore fisherman jetty sardines prow porpoise keels breadfruit conga... (50)\n",
      "4.4 coral reef turtle crabs pelagic lizard crocodile seaweed turquoise octopus starfish... (176)\n",
      "\n",
      "3.6 cruising dhow pleasure_boat 4\n",
      "4.2 diving sailing ballast Harbour lighthouse mooring keel bulkhead seafaring shoreside supertanker... (61)\n",
      "4.2 whale shark ashore fisherman jetty sardines prow porpoise keels breadfruit conga... (50)\n",
      "4.4 coral reef turtle crabs pelagic lizard crocodile seaweed turquoise octopus starfish... (176)\n",
      "\n"
     ]
    }
   ],
   "source": [
    "\"\"\"\n",
    "Prints pathes from the deepest (most specific) occurrence to the full set.\n",
    "\"\"\"\n",
    "max_depth = -1\n",
    "for path, node, depth in reversed(list(zip(paths, nodes, depths))):\n",
    "    if depth < max_depth:\n",
    "        break\n",
    "    else:\n",
    "        max_depth = depth\n",
    "    print(\n",
    "        #'dhow' in node, # == True \n",
    "        my_print(node), depth)\n",
    "    for node2 in path[:-1]:\n",
    "        #print('{}\\t{}\\t{}'.format(my_print(node2['attributes']), node2['Node'], my_print(node2['own_objects'])))\n",
    "        print('{}'.format(my_print(node2['own_objects'], max_len=11)))\n",
    "    print()\n"
   ]
  },
  {
   "cell_type": "code",
   "execution_count": 11,
   "metadata": {},
   "outputs": [
    {
     "data": {
      "text/plain": [
       "[{'Node': 0, 'attributes': [], 'own_objects': []}]"
      ]
     },
     "execution_count": 11,
     "metadata": {},
     "output_type": "execute_result"
    }
   ],
   "source": [
    "paths[0]"
   ]
  },
  {
   "cell_type": "code",
   "execution_count": 12,
   "metadata": {},
   "outputs": [
    {
     "data": {
      "text/plain": [
       "['watercraft',\n",
       " 'edgily',\n",
       " 'nitro',\n",
       " 'road_racing',\n",
       " 'sports_car',\n",
       " 'dinky-di',\n",
       " 'jalopy',\n",
       " 'cupholder']"
      ]
     },
     "execution_count": 12,
     "metadata": {},
     "output_type": "execute_result"
    }
   ],
   "source": [
    "nodes[0][:8]"
   ]
  },
  {
   "cell_type": "code",
   "execution_count": 13,
   "metadata": {},
   "outputs": [
    {
     "data": {
      "text/plain": [
       "1"
      ]
     },
     "execution_count": 13,
     "metadata": {},
     "output_type": "execute_result"
    }
   ],
   "source": [
    "depths[0]"
   ]
  },
  {
   "cell_type": "markdown",
   "metadata": {},
   "source": [
    "# Lattice exploration"
   ]
  },
  {
   "cell_type": "code",
   "execution_count": 14,
   "metadata": {},
   "outputs": [],
   "source": [
    "dag = nx.read_gpickle('/mnt/permanent/home/makrai/project/hypernym18-SemEval/top500words.gpickle')"
   ]
  },
  {
   "cell_type": "code",
   "execution_count": 16,
   "metadata": {},
   "outputs": [
    {
     "data": {
      "text/plain": [
       "(196, 446)"
      ]
     },
     "execution_count": 16,
     "metadata": {},
     "output_type": "execute_result"
    }
   ],
   "source": [
    "dag.number_of_nodes(), dag.number_of_edges()"
   ]
  },
  {
   "cell_type": "code",
   "execution_count": 17,
   "metadata": {},
   "outputs": [
    {
     "name": "stdout",
     "output_type": "stream",
     "text": [
      "175|0th|n816\\nn288\\nn106\\nn463\\nn954\\nn527\\nn150\\nn226\\nn533\\nn36\n"
     ]
    }
   ],
   "source": [
    "print(dag.nodes['node175']['label'])"
   ]
  }
 ],
 "metadata": {
  "kernelspec": {
   "display_name": "Python 3",
   "language": "python",
   "name": "python3"
  },
  "language_info": {
   "codemirror_mode": {
    "name": "ipython",
    "version": 3
   },
   "file_extension": ".py",
   "mimetype": "text/x-python",
   "name": "python",
   "nbconvert_exporter": "python",
   "pygments_lexer": "ipython3",
   "version": "3.4.2"
  }
 },
 "nbformat": 4,
 "nbformat_minor": 2
}

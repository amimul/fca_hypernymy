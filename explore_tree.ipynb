{
 "cells": [
  {
   "cell_type": "code",
   "execution_count": 10,
   "metadata": {
    "collapsed": true
   },
   "outputs": [],
   "source": [
    "import logging\n",
    "logging.basicConfig(level=logging.DEBUG, format=\"%(asctime)s: (%(lineno)s) %(levelname)s %(message)s\")\n",
    "\n",
    "import json\n",
    "import pprint\n",
    "\n",
    "import networkx as nx\n",
    "\n",
    "from semeval_fca import find_paths_to_object"
   ]
  },
  {
   "cell_type": "markdown",
   "metadata": {},
   "source": [
    "# Tree exploration"
   ]
  },
  {
   "cell_type": "code",
   "execution_count": 9,
   "metadata": {
    "collapsed": true
   },
   "outputs": [],
   "source": [
    "J = json.load(open(\n",
    "    '/mnt/store/hlt/Work/hypernym18-SemEval/concept_tree/1A_UMBC_tokenized.txt_100_sg.vec.gz_True_1000_0.2_unit_True_vocabulary_filtered_reduced.cxt.json'))"
   ]
  },
  {
   "cell_type": "code",
   "execution_count": 11,
   "metadata": {
    "collapsed": true
   },
   "outputs": [],
   "source": [
    "paths, nodes, depths = find_paths_to_object(J, 'dhow')"
   ]
  },
  {
   "cell_type": "markdown",
   "metadata": {},
   "source": [
    "mind3 visszaadott lista olyan hosszú lesz, mint ahányféleképp el lehetett jutni a gyökérből egy olyan csúcsig, amiben megtalálható volt a lekérdezett szó\n",
    "\n",
    "* a `path` ezeknek az utaknak a visszafejtését tartalmazza, \n",
    "* a `nodes` magát azt a csúcsot, ahol az i. út véget ért\n",
    "* a `depths` pedig azt hogy a gyökértől milyen mélyen helyezkedik el ez a bizonyos csúcs\n",
    "\n",
    "\n",
    "elvileg redundáns is, tehát a `paths` i. elemében egy olyan listát kell találj, ami egy gyökérben végződő utat kódol, és a `depths` i. értékéül épp ennek az útnak a hosszát kell lásd"
   ]
  },
  {
   "cell_type": "code",
   "execution_count": 12,
   "metadata": {},
   "outputs": [
    {
     "data": {
      "text/plain": [
       "(22, 22, 22)"
      ]
     },
     "execution_count": 12,
     "metadata": {},
     "output_type": "execute_result"
    }
   ],
   "source": [
    "len(paths), len(nodes), len(depths)"
   ]
  },
  {
   "cell_type": "code",
   "execution_count": 24,
   "metadata": {},
   "outputs": [
    {
     "data": {
      "text/plain": [
       "[{'Node': 0, 'attributes': [], 'own_objects': []}]"
      ]
     },
     "execution_count": 24,
     "metadata": {},
     "output_type": "execute_result"
    }
   ],
   "source": [
    "paths[0]"
   ]
  },
  {
   "cell_type": "code",
   "execution_count": 25,
   "metadata": {},
   "outputs": [
    {
     "data": {
      "text/plain": [
       "['watercraft',\n",
       " 'edgily',\n",
       " 'nitro',\n",
       " 'road_racing',\n",
       " 'sports_car',\n",
       " 'dinky-di',\n",
       " 'jalopy',\n",
       " 'cupholder',\n",
       " 'lawnmower',\n",
       " 'hardtop',\n",
       " 't0',\n",
       " 'sidesaddle',\n",
       " 'tyre',\n",
       " 'crew_cab',\n",
       " 'joyride',\n",
       " 'bonkers',\n",
       " 'motorcycle',\n",
       " 'coachbuilder',\n",
       " 'cruiser',\n",
       " 'military_vehicle',\n",
       " 'border_collie',\n",
       " 'prius',\n",
       " 'clutch_pedal',\n",
       " 'off-roader',\n",
       " 'chinky',\n",
       " 'circular_segment',\n",
       " 'hardpack',\n",
       " 'minivan',\n",
       " 'kickflip',\n",
       " 'drowsiness',\n",
       " 'power_train',\n",
       " 'sailboat',\n",
       " 'trunk_lid',\n",
       " 'aks',\n",
       " 'floorboard',\n",
       " 'underbody',\n",
       " 'three-wheeled',\n",
       " 'stunna',\n",
       " 'biker',\n",
       " 'upholstery',\n",
       " 'soft_top',\n",
       " 'car',\n",
       " 'racing_circuit',\n",
       " 'curricle',\n",
       " 'phaeton',\n",
       " 'racetrack',\n",
       " 'saddle_horse',\n",
       " 'tranny',\n",
       " 'chevy',\n",
       " 'flat_tire',\n",
       " 'roll_cage',\n",
       " 'econocar',\n",
       " 'lawn-mower',\n",
       " 'defroster',\n",
       " 'truckish',\n",
       " 'accelerator_pedal',\n",
       " 'slappy',\n",
       " 'cabriolet',\n",
       " 'attack_helicopter',\n",
       " 'up-armored',\n",
       " 'grippy',\n",
       " 'horse_trainer',\n",
       " 'air_suspension',\n",
       " 'oil_slick',\n",
       " 'fender',\n",
       " 'manumatic',\n",
       " 'ignition_switch',\n",
       " 'grand_tourer',\n",
       " 'braking',\n",
       " 'skateboard',\n",
       " 'roadgoing',\n",
       " 'flat-six',\n",
       " 'humanoid_robot',\n",
       " 'tricked-out',\n",
       " 'locking_differential',\n",
       " 'amphibious_vehicle',\n",
       " 'shift_lever',\n",
       " 'quarter_horse',\n",
       " 'sportiness',\n",
       " 'baby_oil',\n",
       " 'torquey',\n",
       " 'roof_rack',\n",
       " 'dune_buggy',\n",
       " 'ski_run',\n",
       " 'vehicle',\n",
       " 'standard_transmission',\n",
       " 'skier',\n",
       " 'draft_horse',\n",
       " 'ornithopter',\n",
       " 'osculating_plane',\n",
       " 'four-door',\n",
       " 'car_door',\n",
       " 'runabout',\n",
       " 'oleo',\n",
       " 'pedal',\n",
       " 'four-wheel_drive',\n",
       " 'snowmobile',\n",
       " 'fan_belt',\n",
       " 'trendoid',\n",
       " 'disc_brake',\n",
       " 'mountain_bike',\n",
       " 'drive_light',\n",
       " 'apoplectically',\n",
       " 'pick-up_truck',\n",
       " 'gas_gauge',\n",
       " 'luge',\n",
       " 'sedan',\n",
       " 'sporty',\n",
       " 'sequential_manual_gearbox',\n",
       " 'steering_wheel',\n",
       " 'hackney',\n",
       " 'running_board',\n",
       " 'relative_velocity',\n",
       " 'trike',\n",
       " 'car_racing',\n",
       " 'engine_oil',\n",
       " 'speeder',\n",
       " 'handbrake',\n",
       " 'roadster',\n",
       " '4wd',\n",
       " 'two-seater',\n",
       " 'bodyboard',\n",
       " 'wheel',\n",
       " 'estate_car',\n",
       " 'sensable',\n",
       " 'mower',\n",
       " 'track_racing',\n",
       " 'seat_tube',\n",
       " 'clutchless',\n",
       " 'hosepipe',\n",
       " 'dirt_track',\n",
       " 'ski_jacket',\n",
       " 'training_wheel',\n",
       " 'fire_engine_red',\n",
       " 'motorbike',\n",
       " 'kickstand',\n",
       " 'foot_brake',\n",
       " 'petrol_tank',\n",
       " 'crash_helmet',\n",
       " 'gearshift',\n",
       " 'hubcap',\n",
       " 'ragtop',\n",
       " 'sunroof',\n",
       " 'dome_light',\n",
       " 'blurrily',\n",
       " 'horn_button',\n",
       " 'jackrabbit',\n",
       " 'lowrider',\n",
       " 'garage_door',\n",
       " 'hot_rod',\n",
       " 'suspension_system',\n",
       " 'speedster',\n",
       " 'aircar',\n",
       " 'compact_car',\n",
       " 'decklid',\n",
       " 'front-wheel_drive',\n",
       " 'sportily',\n",
       " 'mahout',\n",
       " 'armored_vehicle',\n",
       " 'torque_converter',\n",
       " 'pickup_truck',\n",
       " 'tilbury',\n",
       " 'hatchback',\n",
       " 'four-wheeled',\n",
       " 'drop_top',\n",
       " 'go-cart',\n",
       " 'tankful',\n",
       " 'parts_bin',\n",
       " 'geartrain',\n",
       " 'car_sickness',\n",
       " 'bendy',\n",
       " 'penny_farthing',\n",
       " 'rear_end',\n",
       " 'rollerblader',\n",
       " 'sport_utility_vehicle',\n",
       " 'batty',\n",
       " 'road_runner',\n",
       " 'chaise',\n",
       " 'glove_compartment',\n",
       " 'footwell',\n",
       " 'coupe',\n",
       " 'wheels',\n",
       " 'speedo',\n",
       " 'steering_system',\n",
       " 'sportbike',\n",
       " 'taurus',\n",
       " 'touring_car',\n",
       " 'motocross',\n",
       " 'off-roading',\n",
       " 'beer_can',\n",
       " 'vette',\n",
       " 'tandem_bicycle',\n",
       " 'quattro',\n",
       " 'has-a',\n",
       " 'ejector_seat',\n",
       " 'trail_bike',\n",
       " 'automatic_transmission',\n",
       " 'farm_machinery',\n",
       " 'gas_tank',\n",
       " 'hydride',\n",
       " 'fog_light',\n",
       " 'airplane',\n",
       " 'two-wheeler',\n",
       " 'powerboat',\n",
       " 'tip-up',\n",
       " 'charioteer',\n",
       " 'caballero',\n",
       " 'surfboard',\n",
       " 'inner_tube',\n",
       " 'Chevrolet_SSR',\n",
       " 'boat',\n",
       " 'stick_shift',\n",
       " 'steering_column',\n",
       " 'rear_light',\n",
       " 'dhow',\n",
       " 'high_beam',\n",
       " 'horse-drawn_vehicle',\n",
       " 'dirtbike',\n",
       " 'hydraulic_brakes',\n",
       " 'pullover',\n",
       " 'lexus',\n",
       " 'bed_cover',\n",
       " 'gear_lever']"
      ]
     },
     "execution_count": 25,
     "metadata": {},
     "output_type": "execute_result"
    }
   ],
   "source": [
    "nodes[0]["
   ]
  },
  {
   "cell_type": "code",
   "execution_count": 26,
   "metadata": {},
   "outputs": [
    {
     "data": {
      "text/plain": [
       "1"
      ]
     },
     "execution_count": 26,
     "metadata": {},
     "output_type": "execute_result"
    }
   ],
   "source": [
    "depths[0]"
   ]
  },
  {
   "cell_type": "markdown",
   "metadata": {},
   "source": [
    "# Lattice exploration"
   ]
  },
  {
   "cell_type": "code",
   "execution_count": 2,
   "metadata": {},
   "outputs": [],
   "source": [
    "dag = nx.read_gpickle('/mnt/permanent/home/makrai/project/hypernym18-SemEval/top500words.gpickle')"
   ]
  },
  {
   "cell_type": "code",
   "execution_count": 4,
   "metadata": {},
   "outputs": [
    {
     "data": {
      "text/plain": [
       "(196, 446)"
      ]
     },
     "execution_count": 4,
     "metadata": {},
     "output_type": "execute_result"
    }
   ],
   "source": [
    "dag.number_of_nodes(), dag.number_of_edges()0"
   ]
  },
  {
   "cell_type": "code",
   "execution_count": 8,
   "metadata": {},
   "outputs": [
    {
     "name": "stdout",
     "output_type": "stream",
     "text": [
      "175|0th|n816\\nn288\\nn106\\nn463\\nn954\\nn527\\nn150\\nn226\\nn533\\nn36\n"
     ]
    }
   ],
   "source": [
    "print(dag.nodes['node175']['label'])"
   ]
  }
 ],
 "metadata": {
  "kernelspec": {
   "display_name": "Python 3",
   "language": "python",
   "name": "python3"
  },
  "language_info": {
   "codemirror_mode": {
    "name": "ipython",
    "version": 3
   },
   "file_extension": ".py",
   "mimetype": "text/x-python",
   "name": "python",
   "nbconvert_exporter": "python",
   "pygments_lexer": "ipython3",
   "version": "3.4.2"
  }
 },
 "nbformat": 4,
 "nbformat_minor": 2
}

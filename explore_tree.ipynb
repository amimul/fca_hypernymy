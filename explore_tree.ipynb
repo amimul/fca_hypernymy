{
 "cells": [
  {
   "cell_type": "code",
   "execution_count": 10,
   "metadata": {
    "collapsed": true
   },
   "outputs": [],
   "source": [
    "import logging\n",
    "logging.basicConfig(level=logging.DEBUG, format=\"%(asctime)s: (%(lineno)s) %(levelname)s %(message)s\")\n",
    "\n",
    "import json\n",
    "import pprint\n",
    "\n",
    "import networkx as nx\n",
    "\n",
    "from semeval_fca import find_paths_to_object"
   ]
  },
  {
   "cell_type": "markdown",
   "metadata": {},
   "source": [
    "# Tree exploration"
   ]
  },
  {
   "cell_type": "code",
   "execution_count": 9,
   "metadata": {
    "collapsed": true
   },
   "outputs": [],
   "source": [
    "J = json.load(open(\n",
    "    '/mnt/store/hlt/Work/hypernym18-SemEval/concept_tree/1A_UMBC_tokenized.txt_100_sg.vec.gz_True_1000_0.2_unit_True_vocabulary_filtered_reduced.cxt.json'))"
   ]
  },
  {
   "cell_type": "code",
   "execution_count": 11,
   "metadata": {
    "collapsed": true
   },
   "outputs": [],
   "source": [
    "paths, nodes, depths = find_paths_to_object(J, 'dhow')"
   ]
  },
  {
   "cell_type": "markdown",
   "metadata": {},
   "source": [
    "mind3 visszaadott lista olyan hosszú lesz, mint ahányféleképp el lehetett jutni a gyökérből egy olyan csúcsig, amiben megtalálható volt a lekérdezett szó\n",
    "\n",
    "* a `path` ezeknek az utaknak a visszafejtését tartalmazza, \n",
    "* a `nodes` magát azt a csúcsot, ahol az i. út véget ért\n",
    "* a `depths` pedig azt hogy a gyökértől milyen mélyen helyezkedik el ez a bizonyos csúcs\n",
    "\n",
    "\n",
    "elvileg redundáns is, tehát a `paths` i. elemében egy olyan listát kell találj, ami egy gyökérben végződő utat kódol, és a `depths` i. értékéül épp ennek az útnak a hosszát kell lásd"
   ]
  },
  {
   "cell_type": "code",
   "execution_count": 78,
   "metadata": {
    "collapsed": true
   },
   "outputs": [],
   "source": [
    "def my_print(list_, max_len=7):\n",
    "    ans = ' '.join(str(i) for  i in list_[:max_len])\n",
    "    len_ = len(list_)\n",
    "    if len_ > max_len:\n",
    "        ans += '... ({})'.format(len_)\n",
    "    return ans"
   ]
  },
  {
   "cell_type": "code",
   "execution_count": 85,
   "metadata": {},
   "outputs": [
    {
     "name": "stdout",
     "output_type": "stream",
     "text": [
      "coastwise unladen flota sidewheel undecked shallow-draught carrack... (11) 4\n",
      "vaka flat-bottomed whalebone hidden_reserve kapa balsa_raft sailcloth casco sampan plying butter-box... (15)\n",
      "cocoanut swiftlet stilt cowry pearl cowries\n",
      "camlet sultan macaw dey argillite mundu mother-of-pearl mahogany jades micaceous tajine... (31)\n",
      "\n",
      "tunnage wharfside dhow 4\n",
      "salter seal_oil kapok vapored rum whale_oil\n",
      "wooden_boat wooden_shoe chantey supercargo lubberly sennit kapa balsa_raft breadfruit_tree whaleboat butter-box\n",
      "camlet sultan macaw dey argillite mundu mother-of-pearl mahogany jades micaceous tajine... (31)\n",
      "\n",
      "bilgewater oil_tanker supertanker dhow 4\n",
      "ranson Tropical_Storm_Cindy\n",
      "ashore islander glycosylphosphatidylinositol bounding_main conga sardines wooden_boat floating_island hawser luff breadfruit... (50)\n",
      "naupaka sooty_tern black_oystercatcher plana black_slug subtidal striped_marlin coral_reef_fish purple_heron butterflyfish conjunctive_adverb... (176)\n",
      "\n",
      "cruising pleasure_boat dhow 4\n",
      "coast_guard bulkhead mooring monohull well_deck patrol_ship nautically nitrox diving_equipment coaling_station breton... (61)\n",
      "ashore islander glycosylphosphatidylinositol bounding_main conga sardines wooden_boat floating_island hawser luff breadfruit... (50)\n",
      "naupaka sooty_tern black_oystercatcher plana black_slug subtidal striped_marlin coral_reef_fish purple_heron butterflyfish conjunctive_adverb... (176)\n",
      "\n"
     ]
    }
   ],
   "source": [
    "\"\"\"\n",
    "Prints pathes from the deepest (most specific) occurrence to the full set.\n",
    "\"\"\"\n",
    "max_depth = -1\n",
    "for path, node, depth in reversed(list(zip(paths, nodes, depths))):\n",
    "    if depth < max_depth:\n",
    "        break\n",
    "    else:\n",
    "        max_depth = depth\n",
    "    print(\n",
    "        #'dhow' in node, # == True \n",
    "        my_print(node), depth)\n",
    "    for node2 in path[:-1]:\n",
    "        #print('{}\\t{}\\t{}'.format(my_print(node2['attributes']), node2['Node'], my_print(node2['own_objects'])))\n",
    "        print('{}'.format(my_print(node2['own_objects'], max_len=11)))\n",
    "    print()\n"
   ]
  },
  {
   "cell_type": "code",
   "execution_count": 24,
   "metadata": {},
   "outputs": [
    {
     "data": {
      "text/plain": [
       "[{'Node': 0, 'attributes': [], 'own_objects': []}]"
      ]
     },
     "execution_count": 24,
     "metadata": {},
     "output_type": "execute_result"
    }
   ],
   "source": [
    "paths[0]"
   ]
  },
  {
   "cell_type": "code",
   "execution_count": 37,
   "metadata": {},
   "outputs": [
    {
     "data": {
      "text/plain": [
       "['watercraft',\n",
       " 'edgily',\n",
       " 'nitro',\n",
       " 'road_racing',\n",
       " 'sports_car',\n",
       " 'dinky-di',\n",
       " 'jalopy',\n",
       " 'cupholder']"
      ]
     },
     "execution_count": 37,
     "metadata": {},
     "output_type": "execute_result"
    }
   ],
   "source": [
    "nodes[0][:8]"
   ]
  },
  {
   "cell_type": "code",
   "execution_count": 26,
   "metadata": {},
   "outputs": [
    {
     "data": {
      "text/plain": [
       "1"
      ]
     },
     "execution_count": 26,
     "metadata": {},
     "output_type": "execute_result"
    }
   ],
   "source": [
    "depths[0]"
   ]
  },
  {
   "cell_type": "markdown",
   "metadata": {},
   "source": [
    "# Lattice exploration"
   ]
  },
  {
   "cell_type": "code",
   "execution_count": 2,
   "metadata": {},
   "outputs": [],
   "source": [
    "dag = nx.read_gpickle('/mnt/permanent/home/makrai/project/hypernym18-SemEval/top500words.gpickle')"
   ]
  },
  {
   "cell_type": "code",
   "execution_count": 4,
   "metadata": {},
   "outputs": [
    {
     "data": {
      "text/plain": [
       "(196, 446)"
      ]
     },
     "execution_count": 4,
     "metadata": {},
     "output_type": "execute_result"
    }
   ],
   "source": [
    "dag.number_of_nodes(), dag.number_of_edges()0"
   ]
  },
  {
   "cell_type": "code",
   "execution_count": 8,
   "metadata": {},
   "outputs": [
    {
     "name": "stdout",
     "output_type": "stream",
     "text": [
      "175|0th|n816\\nn288\\nn106\\nn463\\nn954\\nn527\\nn150\\nn226\\nn533\\nn36\n"
     ]
    }
   ],
   "source": [
    "print(dag.nodes['node175']['label'])"
   ]
  }
 ],
 "metadata": {
  "kernelspec": {
   "display_name": "Python 3",
   "language": "python",
   "name": "python3"
  },
  "language_info": {
   "codemirror_mode": {
    "name": "ipython",
    "version": 3
   },
   "file_extension": ".py",
   "mimetype": "text/x-python",
   "name": "python",
   "nbconvert_exporter": "python",
   "pygments_lexer": "ipython3",
   "version": "3.4.2"
  }
 },
 "nbformat": 4,
 "nbformat_minor": 2
}

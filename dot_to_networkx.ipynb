{
 "cells": [
  {
   "cell_type": "code",
   "execution_count": 1,
   "metadata": {
    "collapsed": true
   },
   "outputs": [],
   "source": [
    "import networkx as nx\n",
    "import pygraphviz"
   ]
  },
  {
   "cell_type": "code",
   "execution_count": 3,
   "metadata": {
    "collapsed": false
   },
   "outputs": [],
   "source": [
    "#path_to_dag = '/home/makrai/project/hypernym18-SemEval/top500words.dot'\n",
    "path_to_dag = '1A_UMBC_tokenized.txt_100_sg.vec.gz_True_1000_0.5_unit_True_vocabulary_filtered.alph.reduced2.dot'\n",
    "dag = nx.drawing.nx_agraph.read_dot(path_to_dag)"
   ]
  },
  {
   "cell_type": "code",
   "execution_count": 6,
   "metadata": {
    "collapsed": true
   },
   "outputs": [],
   "source": [
    "nx.write_gpickle(dag, '/home/makrai/project/hypernym18-SemEval/top500words.gpickle')"
   ]
  },
  {
   "cell_type": "code",
   "execution_count": 7,
   "metadata": {
    "collapsed": true
   },
   "outputs": [],
   "source": [
    "deepest_occurrence = {}\n",
    "attributes_for_nodes = {}\n",
    "for n in dag.nodes(data=True):\n",
    "    words = n[1]['label'].split('|')[1].split('\\\\n')\n",
    "    node_id = int(n[1]['label'].split('|')[0])\n",
    "    attributes_for_nodes[node_id] = n[1]['label'].split('|')[2].split('\\\\n')\n",
    "    for w in words:\n",
    "        if not w in deepest_occurrence or deepest_occurrence[w][1] > len(words):\n",
    "            deepest_occurrence[w] = (node_id, len(words))"
   ]
  },
  {
   "cell_type": "code",
   "execution_count": 8,
   "metadata": {
    "collapsed": false
   },
   "outputs": [
    {
     "name": "stdout",
     "output_type": "stream",
     "text": [
      "(35064, 825)\n",
      "['n913']\n",
      "(35081, 49)\n",
      "['n234', 'n913']\n"
     ]
    }
   ],
   "source": [
    "print(deepest_occurrence['dog'])\n",
    "print(attributes_for_nodes[deepest_occurrence['dog'][0]])\n",
    "print(deepest_occurrence['poodle'])\n",
    "print(attributes_for_nodes[deepest_occurrence['poodle'][0]])"
   ]
  },
  {
   "cell_type": "code",
   "execution_count": 15,
   "metadata": {
    "collapsed": false
   },
   "outputs": [
    {
     "name": "stdout",
     "output_type": "stream",
     "text": [
      "[['node35064', 'node35081']]\n"
     ]
    }
   ],
   "source": [
    "dog_location = deepest_occurrence['dog'][0]\n",
    "poodle_location = deepest_occurrence['poodle'][0]\n",
    "all_paths = nx.all_simple_paths(dag,'node{}'.format(dog_location), 'node{}'.format(poodle_location))\n",
    "print(list(all_paths))"
   ]
  },
  {
   "cell_type": "code",
   "execution_count": null,
   "metadata": {
    "collapsed": true
   },
   "outputs": [],
   "source": []
  }
 ],
 "metadata": {
  "kernelspec": {
   "display_name": "Python [py3k]",
   "language": "python",
   "name": "Python [py3k]"
  },
  "language_info": {
   "codemirror_mode": {
    "name": "ipython",
    "version": 3
   },
   "file_extension": ".py",
   "mimetype": "text/x-python",
   "name": "python",
   "nbconvert_exporter": "python",
   "pygments_lexer": "ipython3",
   "version": "3.5.4"
  }
 },
 "nbformat": 4,
 "nbformat_minor": 2
}
